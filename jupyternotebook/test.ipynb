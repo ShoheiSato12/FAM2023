{
 "cells": [
  {
   "cell_type": "code",
   "execution_count": 1,
   "metadata": {},
   "outputs": [],
   "source": [
    "import numpy as np\n"
   ]
  },
  {
   "cell_type": "code",
   "execution_count": 2,
   "metadata": {},
   "outputs": [],
   "source": [
    "#Define the functions to calculate\n",
    "def J(R):\n",
    "    return (np.exp(-2*R)*(1+R**(-1)))\n",
    "def S(R):\n",
    "    return(np.exp(-R)*(1+R+(R**2)/3))\n",
    "def K(R):\n",
    "    return(np.exp(-R)*(R**(-1)+(2/3)*R))\n",
    "\n",
    "def EnergiaLigante(R):\n",
    "    return(-0.5+(J(R)+K(R))/(1+S(R)))\n",
    "\n",
    "def EnergiaAntiligante(R):      \n",
    "    return(-0.5+(J(R)-K(R))/(1-S(R)))"
   ]
  },
  {
   "cell_type": "code",
   "execution_count": null,
   "metadata": {},
   "outputs": [],
   "source": [
    "R=np.linspace(0.1,6,200)\n",
    "Elig=EnergiaLigante(R)\n",
    "Eanti=EnergiaAntiligante(R)\n"
   ]
  }
 ],
 "metadata": {
  "kernelspec": {
   "display_name": "Python 3",
   "language": "python",
   "name": "python3"
  },
  "language_info": {
   "codemirror_mode": {
    "name": "ipython",
    "version": 3
   },
   "file_extension": ".py",
   "mimetype": "text/x-python",
   "name": "python",
   "nbconvert_exporter": "python",
   "pygments_lexer": "ipython3",
   "version": "3.8.10"
  },
  "orig_nbformat": 4
 },
 "nbformat": 4,
 "nbformat_minor": 2
}
