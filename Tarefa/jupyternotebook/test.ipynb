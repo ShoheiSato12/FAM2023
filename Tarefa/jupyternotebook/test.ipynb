{
 "cells": [
  {
   "cell_type": "code",
   "execution_count": 8,
   "metadata": {},
   "outputs": [],
   "source": [
    "%matplotlib inline\n",
    "import numpy as np\n",
    "import matplotlib.pyplot as plt"
   ]
  },
  {
   "cell_type": "code",
   "execution_count": 19,
   "metadata": {},
   "outputs": [],
   "source": [
    "#Define the functions to calculate\n",
    "def J(R):\n",
    "    return ((np.exp(-2*R))*(1+R**(-1)))\n",
    "def S(R):\n",
    "    return((np.exp(-R))*(1+R+(R**2)/3))\n",
    "def K(R):\n",
    "    return((np.exp(-R))*(R**(-1)+(2/3)*R))\n",
    "\n",
    "def EnergiaLigante(R):\n",
    "    return(-0.5+(J(R)+K(R))/(1+S(R)))\n",
    "\n",
    "def EnergiaAntiligante(R):      \n",
    "    return(-0.5+(J(R)-K(R))/(1-S(R)))"
   ]
  },
  {
   "cell_type": "code",
   "execution_count": 22,
   "metadata": {},
   "outputs": [
    {
     "data": {
      "text/plain": [
       "(-10.0, 10.0)"
      ]
     },
     "execution_count": 22,
     "metadata": {},
     "output_type": "execute_result"
    },
    {
     "data": {
      "image/png": "[encoded data removed]",
      "text/plain": [
       "<Figure size 432x288 with 1 Axes>"
      ]
     },
     "metadata": {
      "needs_background": "light"
     },
     "output_type": "display_data"
    }
   ],
   "source": [
    "R=np.linspace(0.01,6,700)\n",
    "Elig=EnergiaLigante(R)\n",
    "Eanti=EnergiaAntiligante(R)\n",
    "data1=np.column_stack([R,Elig])\n",
    "data2=np.column_stack([R,Eanti])\n",
    "\n",
    "file1 = open(\"../Outputs/DAT/PyElig.dat\",\"w\")\n",
    "file2 = open(\"../Outputs/DAT/PyEanti.dat\",\"w\")\n",
    "\n",
    "#file1.write(data1)\n",
    "#file2.write(data2)\n",
    "\n",
    "plt.plot(R,Elig, label =\"Energia ligante\")\n",
    "plt.plot(R,Eanti, label =\"Energia antiligante\")\n",
    "plt.xlim(left=0,right=2)\n",
    "plt.ylim(top=10,bottom=-10)"
   ]
  }
 ],
 "metadata": {
  "kernelspec": {
   "display_name": "Python 3",
   "language": "python",
   "name": "python3"
  },
  "language_info": {
   "codemirror_mode": {
    "name": "ipython",
    "version": 3
   },
   "file_extension": ".py",
   "mimetype": "text/x-python",
   "name": "python",
   "nbconvert_exporter": "python",
   "pygments_lexer": "ipython3",
   "version": "3.8.10"
  },
  "orig_nbformat": 4
 },
 "nbformat": 4,
 "nbformat_minor": 2
}
